{
 "cells": [
  {
   "cell_type": "code",
   "execution_count": 0,
   "metadata": {
    "application/vnd.databricks.v1+cell": {
     "cellMetadata": {
      "byteLimit": 2048000,
      "rowLimit": 10000
     },
     "inputWidgets": {},
     "nuid": "d3ddfd0a-ea15-4784-9339-6fd72ba1af6a",
     "showTitle": false,
     "tableResultSettingsMap": {},
     "title": ""
    }
   },
   "outputs": [],
   "source": [
    "%run /Users/wandrieli.89@gmail.com/projeto_tiller/Parametros/nb_parametros"
   ]
  },
  {
   "cell_type": "code",
   "execution_count": 0,
   "metadata": {
    "application/vnd.databricks.v1+cell": {
     "cellMetadata": {
      "byteLimit": 2048000,
      "rowLimit": 10000
     },
     "inputWidgets": {},
     "nuid": "17cf38a6-c941-4cc8-9008-56492f7bd436",
     "showTitle": false,
     "tableResultSettingsMap": {},
     "title": ""
    }
   },
   "outputs": [],
   "source": [
    "%run /Users/wandrieli.89@gmail.com/projeto_tiller/Parametros/nb_catalag_schema"
   ]
  },
  {
   "cell_type": "code",
   "execution_count": 0,
   "metadata": {
    "application/vnd.databricks.v1+cell": {
     "cellMetadata": {
      "byteLimit": 2048000,
      "rowLimit": 10000
     },
     "inputWidgets": {},
     "nuid": "d3f98723-23fa-4cd5-9172-12879fdabd58",
     "showTitle": false,
     "tableResultSettingsMap": {},
     "title": ""
    }
   },
   "outputs": [],
   "source": [
    "def process_despesas_silver():\n",
    "    \"\"\"\n",
    "    Processa os dados da tabela tb_despesas_bronze e salva na camada Silver.\n",
    "    \"\"\"\n",
    "    try:\n",
    "        # Carrega a tabela bronze\n",
    "        df_bronze = spark.table(\"tiller.bronze.tb_despesas_bronze\")\n",
    "\n",
    "        # 🧩 Se o DataFrame estiver vazio, encerra\n",
    "        if df_bronze.count() == 0:\n",
    "            print(\"DataFrame Bronze vazio. Nenhum registro para processar.\")\n",
    "            return None\n",
    "\n",
    "        # Transformações para Silver\n",
    "        df_silver = (\n",
    "            df_bronze\n",
    "            .withColumn(\"data_emissao\", F.to_date(\"datEmissao\"))\n",
    "            .withColumn(\"ano\", F.col(\"numAno\").cast(\"int\"))\n",
    "            .withColumn(\"mes\", F.col(\"numMes\").cast(\"int\"))\n",
    "            .withColumn(\"valor_documento\", F.col(\"vlrDocumento\").cast(\"double\"))\n",
    "            .withColumn(\"valor_glosa\", F.col(\"vlrGlosa\").cast(\"double\"))\n",
    "            .withColumn(\"valor_liquido\", F.col(\"vlrLiquido\").cast(\"double\"))\n",
    "            .withColumn(\"data_ingestao_silver\", F.current_timestamp())\n",
    "            \n",
    "            # Tratar valores nulos\n",
    "            .withColumn(\"txtFornecedor\", F.when(F.col(\"txtFornecedor\").isNull(), \"Não informado\").otherwise(F.col(\"txtFornecedor\")))\n",
    "            .withColumn(\"txtNumero\", F.when(F.col(\"txtNumero\").isNull(), \"Não informado\").otherwise(F.col(\"txtNumero\")))\n",
    "            .withColumn(\"txtDescricao\", F.initcap(F.trim(\"txtDescricao\")))\n",
    "        )\n",
    "\n",
    "        print(\"Schema do DataFrame Silver:\")\n",
    "        df_silver.printSchema()\n",
    "\n",
    "        print(\"Amostra de registros Silver:\")\n",
    "        df_silver.show(5, truncate=False)\n",
    "\n",
    "        # Salva a tabela Silver\n",
    "        df_silver.write.format(\"delta\").mode(\"overwrite\").saveAsTable(\"tiller.silver.tb_despesas_silver\")\n",
    "\n",
    "        print(\"Tabela 'tb_despesas_silver' criada/atualizada com sucesso!\")\n",
    "        return df_silver\n",
    "\n",
    "    except Exception as e:\n",
    "        print(f\"Erro ao processar despesas Silver: {e}\")\n",
    "        return None\n",
    "\n",
    "# Executa o processamento\n",
    "despesas_silver = process_despesas_silver()\n"
   ]
  },
  {
   "cell_type": "code",
   "execution_count": 0,
   "metadata": {
    "application/vnd.databricks.v1+cell": {
     "cellMetadata": {
      "byteLimit": 2048000,
      "implicitDf": true,
      "rowLimit": 10000
     },
     "inputWidgets": {},
     "nuid": "908bf626-9784-4969-b7b1-9f0f91699c75",
     "showTitle": false,
     "tableResultSettingsMap": {},
     "title": ""
    }
   },
   "outputs": [],
   "source": [
    "%sql\n",
    "select * from tiller.silver.tb_despesas_silver;"
   ]
  }
 ],
 "metadata": {
  "application/vnd.databricks.v1+notebook": {
   "computePreferences": null,
   "dashboards": [],
   "environmentMetadata": {
    "base_environment": "",
    "environment_version": "3"
   },
   "inputWidgetPreferences": null,
   "language": "python",
   "notebookMetadata": {
    "mostRecentlyExecutedCommandWithImplicitDF": {
     "commandId": 5256661162413735,
     "dataframes": [
      "_sqldf"
     ]
    },
    "pythonIndentUnit": 4
   },
   "notebookName": "nb_despesas_silver",
   "widgets": {}
  },
  "language_info": {
   "name": "python"
  }
 },
 "nbformat": 4,
 "nbformat_minor": 0
}
