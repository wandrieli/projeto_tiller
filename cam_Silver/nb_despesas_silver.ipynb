{
 "cells": [
  {
   "cell_type": "markdown",
   "metadata": {
    "application/vnd.databricks.v1+cell": {
     "cellMetadata": {},
     "inputWidgets": {},
     "nuid": "d3de173e-1361-4d3f-a78b-6b1a954fc4ed",
     "showTitle": false,
     "tableResultSettingsMap": {},
     "title": ""
    }
   },
   "source": [
    "## Cabeçalho\n",
    "### Objetivo\n",
    "Limpar/Tratar os dados de despesas disponíveis em tb_despesas_bronze extraídos da API de dados abertos da Câmara dos Depoutados.\n",
    "\n",
    "**Sobre\n",
    "Data de crição**: 06/10/2025\n",
    "\n",
    "**Responsável:** Wandrieli Nery Barbosa"
   ]
  },
  {
   "cell_type": "markdown",
   "metadata": {
    "application/vnd.databricks.v1+cell": {
     "cellMetadata": {},
     "inputWidgets": {},
     "nuid": "787b8a7a-5d89-4f94-9d6c-714f7302b360",
     "showTitle": false,
     "tableResultSettingsMap": {},
     "title": ""
    }
   },
   "source": [
    "Parâmetros"
   ]
  },
  {
   "cell_type": "code",
   "execution_count": 0,
   "metadata": {
    "application/vnd.databricks.v1+cell": {
     "cellMetadata": {
      "byteLimit": 2048000,
      "rowLimit": 10000
     },
     "inputWidgets": {},
     "nuid": "d3ddfd0a-ea15-4784-9339-6fd72ba1af6a",
     "showTitle": false,
     "tableResultSettingsMap": {},
     "title": ""
    }
   },
   "outputs": [],
   "source": [
    "%run /Users/wandrieli.89@gmail.com/projeto_tiller/Parametros/nb_parametros"
   ]
  },
  {
   "cell_type": "code",
   "execution_count": 0,
   "metadata": {
    "application/vnd.databricks.v1+cell": {
     "cellMetadata": {
      "byteLimit": 2048000,
      "rowLimit": 10000
     },
     "inputWidgets": {},
     "nuid": "17cf38a6-c941-4cc8-9008-56492f7bd436",
     "showTitle": false,
     "tableResultSettingsMap": {},
     "title": ""
    }
   },
   "outputs": [],
   "source": [
    "%run /Users/wandrieli.89@gmail.com/projeto_tiller/Parametros/nb_catalag_schema"
   ]
  },
  {
   "cell_type": "markdown",
   "metadata": {
    "application/vnd.databricks.v1+cell": {
     "cellMetadata": {},
     "inputWidgets": {},
     "nuid": "539741a8-d6c2-4815-95a3-b61ad0d3caf6",
     "showTitle": false,
     "tableResultSettingsMap": {},
     "title": ""
    }
   },
   "source": [
    "Transformação"
   ]
  },
  {
   "cell_type": "code",
   "execution_count": 0,
   "metadata": {
    "application/vnd.databricks.v1+cell": {
     "cellMetadata": {
      "byteLimit": 2048000,
      "rowLimit": 10000
     },
     "inputWidgets": {},
     "nuid": "d3f98723-23fa-4cd5-9172-12879fdabd58",
     "showTitle": false,
     "tableResultSettingsMap": {},
     "title": ""
    }
   },
   "outputs": [],
   "source": [
    "set_catalog_and_schema_silver() #Define catalog e schema conforme run\n",
    "\n",
    "\n",
    "def process_despesas_silver():\n",
    "\n",
    "    try:\n",
    "\n",
    "        df_bronze = spark.table(\n",
    "            \"tiller.bronze.tb_despesas_bronze\"\n",
    "        )  # Carrega a tabela bronze\n",
    "\n",
    "        if df_bronze.count() == 0:\n",
    "            print(\"DataFrame Bronze vazio. Nenhum registro para processar.\")\n",
    "            return None\n",
    "\n",
    "        df_silver = (\n",
    "            df_bronze.withColumn(\"data_emissao\", F.to_date(\"datEmissao\"))\n",
    "            .withColumn(\"ano\", F.col(\"numAno\").cast(\"int\"))\n",
    "            .withColumn(\"mes\", F.col(\"numMes\").cast(\"int\"))\n",
    "            .withColumn(\"valor_documento\", F.col(\"vlrDocumento\").cast(\"double\"))\n",
    "            .withColumn(\"valor_glosa\", F.col(\"vlrGlosa\").cast(\"double\"))\n",
    "            .withColumn(\"valor_liquido\", F.col(\"vlrLiquido\").cast(\"double\"))\n",
    "            .withColumn(\"data_ingestao_silver\", F.current_timestamp())\n",
    "            \n",
    "            .withColumn(\n",
    "                \"txtFornecedor\",\n",
    "                F.when(F.col(\"txtFornecedor\").isNull(), \"Não informado\").otherwise(\n",
    "                    F.col(\"txtFornecedor\") # Tratar valores nulos\n",
    "                ),\n",
    "            )\n",
    "            .withColumn(\n",
    "                \"txtNumero\",\n",
    "                F.when(F.col(\"txtNumero\").isNull(), \"Não informado\").otherwise(\n",
    "                    F.col(\"txtNumero\")\n",
    "                ),\n",
    "            )\n",
    "            .withColumn(\"txtDescricao\", F.initcap(F.trim(\"txtDescricao\")))\n",
    "        )\n",
    "\n",
    "        print(\"Schema do DataFrame Silver:\")\n",
    "        df_silver.printSchema()\n",
    "\n",
    "        print(\"Amostra de registros Silver:\")\n",
    "        df_silver.show(5, truncate=False)\n",
    "\n",
    "        df_silver.write\\\n",
    "            .format(\"delta\")\\\n",
    "            .mode(\"overwrite\")\\\n",
    "            .option(\"overwriteSchema\", \"true\")\\\n",
    "            .saveAsTable(\"tb_despesas_silver\")  # Salva a tabela Silver\n",
    "\n",
    "        print(\"Tabela criada/atualizada com sucesso!\")\n",
    "        return df_silver\n",
    "\n",
    "    except Exception as e:\n",
    "        print(f\"Erro ao processar despesas Silver: {e}\")\n",
    "        return None\n",
    "\n",
    "\n",
    "despesas_silver = process_despesas_silver()  # Executa o processamento"
   ]
  },
  {
   "cell_type": "code",
   "execution_count": 0,
   "metadata": {
    "application/vnd.databricks.v1+cell": {
     "cellMetadata": {
      "byteLimit": 2048000,
      "implicitDf": true,
      "rowLimit": 10000
     },
     "inputWidgets": {},
     "nuid": "908bf626-9784-4969-b7b1-9f0f91699c75",
     "showTitle": false,
     "tableResultSettingsMap": {},
     "title": ""
    }
   },
   "outputs": [],
   "source": [
    "%sql\n",
    "select\n",
    "  *\n",
    "from\n",
    "  tiller.silver.tb_despesas_silver;"
   ]
  }
 ],
 "metadata": {
  "application/vnd.databricks.v1+notebook": {
   "computePreferences": null,
   "dashboards": [],
   "environmentMetadata": {
    "base_environment": "",
    "environment_version": "3"
   },
   "inputWidgetPreferences": null,
   "language": "python",
   "notebookMetadata": {
    "mostRecentlyExecutedCommandWithImplicitDF": {
     "commandId": 5256661162413735,
     "dataframes": [
      "_sqldf"
     ]
    },
    "pythonIndentUnit": 4
   },
   "notebookName": "nb_despesas_silver",
   "widgets": {}
  },
  "language_info": {
   "name": "python"
  }
 },
 "nbformat": 4,
 "nbformat_minor": 0
}
