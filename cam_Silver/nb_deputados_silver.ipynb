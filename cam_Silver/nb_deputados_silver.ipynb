{
 "cells": [
  {
   "cell_type": "markdown",
   "metadata": {
    "application/vnd.databricks.v1+cell": {
     "cellMetadata": {},
     "inputWidgets": {},
     "nuid": "8eabcecc-26b7-4be8-b761-d969d87420eb",
     "showTitle": false,
     "tableResultSettingsMap": {},
     "title": ""
    }
   },
   "source": [
    "## Cabeçalho\n",
    "### Objetivo\n",
    "Limpar/Tratar os dados de deputados disponíveis em tb_deputados_bronze extraídos da API de dados abertos da Câmara dos Depoutados.\n",
    "\n",
    "**Sobre\n",
    "Data de crição**: 01/10/2025\n",
    "\n",
    "**Responsável:** Wandrieli Nery Barbosa"
   ]
  },
  {
   "cell_type": "markdown",
   "metadata": {
    "application/vnd.databricks.v1+cell": {
     "cellMetadata": {},
     "inputWidgets": {},
     "nuid": "cf575161-f630-459f-864f-8ecb0d40ecf5",
     "showTitle": false,
     "tableResultSettingsMap": {},
     "title": ""
    }
   },
   "source": [
    "Parâmetros"
   ]
  },
  {
   "cell_type": "code",
   "execution_count": 0,
   "metadata": {
    "application/vnd.databricks.v1+cell": {
     "cellMetadata": {
      "byteLimit": 2048000,
      "rowLimit": 10000
     },
     "inputWidgets": {},
     "nuid": "2b67507e-0071-471d-9a35-640c21a2f407",
     "showTitle": false,
     "tableResultSettingsMap": {},
     "title": ""
    }
   },
   "outputs": [],
   "source": [
    "%run /Users/wandrieli.89@gmail.com/projeto_tiller/Parametros/nb_parametros"
   ]
  },
  {
   "cell_type": "code",
   "execution_count": 0,
   "metadata": {
    "application/vnd.databricks.v1+cell": {
     "cellMetadata": {
      "byteLimit": 2048000,
      "rowLimit": 10000
     },
     "inputWidgets": {},
     "nuid": "648687b6-1715-493a-9882-a3829a5f240d",
     "showTitle": false,
     "tableResultSettingsMap": {},
     "title": ""
    }
   },
   "outputs": [],
   "source": [
    "%run /Users/wandrieli.89@gmail.com/projeto_tiller/Parametros/nb_catalag_schema"
   ]
  },
  {
   "cell_type": "markdown",
   "metadata": {
    "application/vnd.databricks.v1+cell": {
     "cellMetadata": {},
     "inputWidgets": {},
     "nuid": "b727aad8-b821-456b-b255-c836aa25c260",
     "showTitle": false,
     "tableResultSettingsMap": {},
     "title": ""
    }
   },
   "source": [
    "Transformação"
   ]
  },
  {
   "cell_type": "code",
   "execution_count": 0,
   "metadata": {
    "application/vnd.databricks.v1+cell": {
     "cellMetadata": {
      "byteLimit": 2048000,
      "rowLimit": 10000
     },
     "inputWidgets": {},
     "nuid": "f3bb309d-29d0-4ea5-b716-132d3abff62f",
     "showTitle": false,
     "tableResultSettingsMap": {},
     "title": ""
    }
   },
   "outputs": [],
   "source": [
    "set_catalog_and_schema_silver() #Define catalog e schema conforme run\n",
    "\n",
    "df_deputados_bronze = spark.table(\"tiller.bronze.tb_deputados_bronze\") # Carrega a tabela bronze\n",
    "\n",
    "# Transformações\n",
    "df_deputados_silver = (\n",
    "    df_deputados_bronze\n",
    "        .withColumn(\"nome\", F.initcap(F.trim(F.col(\"nome\"))))\n",
    "        .withColumn(\"siglaPartido\", F.trim(F.col(\"siglaPartido\")))\n",
    "        .withColumn(\"siglaUf\", F.upper(F.trim(F.col(\"siglaUf\"))))\n",
    "        .withColumn(\"data_ingestao_silver\", F.current_timestamp()) # adiciona data de ingestão\n",
    ")\n",
    "\n",
    "\n",
    "df_deputados_silver.write.format(\"delta\").mode(\"overwrite\").option(\"overwriteSchema\", \"true\").saveAsTable(\"tb_deputados_silver\")\n",
    "\n",
    "print(\"Tabela 'tb_deputados_silver' criada/atualizada com sucesso!\")\n"
   ]
  },
  {
   "cell_type": "code",
   "execution_count": 0,
   "metadata": {
    "application/vnd.databricks.v1+cell": {
     "cellMetadata": {
      "byteLimit": 2048000,
      "implicitDf": true,
      "rowLimit": 10000
     },
     "inputWidgets": {},
     "nuid": "4d76a7f8-6e64-44d6-b381-a541e9c9dd23",
     "showTitle": false,
     "tableResultSettingsMap": {},
     "title": ""
    }
   },
   "outputs": [],
   "source": [
    "%sql\n",
    "select * from tiller.silver.tb_deputados_silver;"
   ]
  }
 ],
 "metadata": {
  "application/vnd.databricks.v1+notebook": {
   "computePreferences": null,
   "dashboards": [],
   "environmentMetadata": {
    "base_environment": "",
    "environment_version": "3"
   },
   "inputWidgetPreferences": null,
   "language": "python",
   "notebookMetadata": {
    "mostRecentlyExecutedCommandWithImplicitDF": {
     "commandId": 7822621151819712,
     "dataframes": [
      "_sqldf"
     ]
    },
    "pythonIndentUnit": 4
   },
   "notebookName": "nb_deputados_silver",
   "widgets": {}
  },
  "language_info": {
   "name": "python"
  }
 },
 "nbformat": 4,
 "nbformat_minor": 0
}
