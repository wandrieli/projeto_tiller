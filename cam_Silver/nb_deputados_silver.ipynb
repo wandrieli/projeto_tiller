{
 "cells": [
  {
   "cell_type": "code",
   "execution_count": 0,
   "metadata": {
    "application/vnd.databricks.v1+cell": {
     "cellMetadata": {
      "byteLimit": 2048000,
      "rowLimit": 10000
     },
     "inputWidgets": {},
     "nuid": "2b67507e-0071-471d-9a35-640c21a2f407",
     "showTitle": false,
     "tableResultSettingsMap": {},
     "title": ""
    }
   },
   "outputs": [],
   "source": [
    "%run /Users/wandrieli.89@gmail.com/projeto_tiller/Parametros/nb_parametros"
   ]
  },
  {
   "cell_type": "code",
   "execution_count": 0,
   "metadata": {
    "application/vnd.databricks.v1+cell": {
     "cellMetadata": {
      "byteLimit": 2048000,
      "rowLimit": 10000
     },
     "inputWidgets": {},
     "nuid": "f3bb309d-29d0-4ea5-b716-132d3abff62f",
     "showTitle": false,
     "tableResultSettingsMap": {},
     "title": ""
    }
   },
   "outputs": [],
   "source": [
    "\n",
    "df_deputados_bronze = spark.table(\"tiller.bronze.tb_deputados_bronze\") # Carrega a tabela bronze\n",
    "\n",
    "# Transformações\n",
    "df_deputados_silver = (\n",
    "    df_deputados_bronze\n",
    "        .withColumn(\"nome\", F.initcap(F.trim(F.col(\"nome\"))))\n",
    "        .withColumn(\"siglaPartido\", F.trim(F.col(\"siglaPartido\")))\n",
    "        .withColumn(\"siglaUf\", F.upper(F.trim(F.col(\"siglaUf\"))))\n",
    "        .withColumn(\"data_ingestao_silver\", F.current_timestamp()) # adiciona coluna de controle da camada silver\n",
    ")\n",
    "\n",
    "# Salva a tabela em Delta \n",
    "df_deputados_silver.write.format(\"delta\").mode(\"overwrite\").saveAsTable(\"tb_deputados_silver\")\n",
    "\n",
    "print(\"Tabela 'tb_deputados_silver' criada/atualizada com sucesso!\")\n"
   ]
  },
  {
   "cell_type": "code",
   "execution_count": 0,
   "metadata": {
    "application/vnd.databricks.v1+cell": {
     "cellMetadata": {
      "byteLimit": 2048000,
      "implicitDf": true,
      "rowLimit": 10000
     },
     "inputWidgets": {},
     "nuid": "4d76a7f8-6e64-44d6-b381-a541e9c9dd23",
     "showTitle": false,
     "tableResultSettingsMap": {},
     "title": ""
    }
   },
   "outputs": [],
   "source": [
    "%sql\n",
    "select * from tb_deputados_silver;"
   ]
  }
 ],
 "metadata": {
  "application/vnd.databricks.v1+notebook": {
   "computePreferences": null,
   "dashboards": [],
   "environmentMetadata": {
    "base_environment": "",
    "environment_version": "3"
   },
   "inputWidgetPreferences": null,
   "language": "python",
   "notebookMetadata": {
    "mostRecentlyExecutedCommandWithImplicitDF": {
     "commandId": 7822621151819712,
     "dataframes": [
      "_sqldf"
     ]
    },
    "pythonIndentUnit": 4
   },
   "notebookName": "nb_deputados_silver",
   "widgets": {}
  },
  "language_info": {
   "name": "python"
  }
 },
 "nbformat": 4,
 "nbformat_minor": 0
}
