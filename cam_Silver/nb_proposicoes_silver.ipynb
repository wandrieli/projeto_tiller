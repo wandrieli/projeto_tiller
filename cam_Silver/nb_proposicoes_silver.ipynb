{
 "cells": [
  {
   "cell_type": "code",
   "execution_count": 0,
   "metadata": {
    "application/vnd.databricks.v1+cell": {
     "cellMetadata": {
      "byteLimit": 2048000,
      "rowLimit": 10000
     },
     "inputWidgets": {},
     "nuid": "6ffe73bf-513e-4707-b076-52b3ebd3d597",
     "showTitle": false,
     "tableResultSettingsMap": {},
     "title": ""
    }
   },
   "outputs": [],
   "source": [
    "#Instalação das bibliotecas necessárias\n",
    "\n",
    "from pyspark.sql import functions as F\n",
    "from pyspark.sql.types import DateType, TimestampType"
   ]
  },
  {
   "cell_type": "code",
   "execution_count": 0,
   "metadata": {
    "application/vnd.databricks.v1+cell": {
     "cellMetadata": {
      "byteLimit": 2048000,
      "implicitDf": true,
      "rowLimit": 10000
     },
     "collapsed": true,
     "inputWidgets": {},
     "nuid": "bf5ce1a3-d195-4161-9aa0-23c3084732f6",
     "showTitle": false,
     "tableResultSettingsMap": {
      "0": {
       "dataGridStateBlob": "{\"version\":1,\"tableState\":{\"columnPinning\":{\"left\":[\"#row_number#\"],\"right\":[]},\"columnSizing\":{},\"columnVisibility\":{}},\"settings\":{\"columns\":{\"uri\":{\"format\":{\"preset\":\"string-preset-url\"}},\"url_origem\":{\"format\":{\"preset\":\"string-preset-url\"}}}},\"syncTimestamp\":1759255217100}",
       "filterBlob": null,
       "queryPlanFiltersBlob": null,
       "tableResultIndex": 0
      }
     },
     "title": ""
    }
   },
   "outputs": [],
   "source": [
    "%sql\n",
    "select * from tb_proposicoes_bronze;"
   ]
  },
  {
   "cell_type": "code",
   "execution_count": 0,
   "metadata": {
    "application/vnd.databricks.v1+cell": {
     "cellMetadata": {
      "byteLimit": 2048000,
      "rowLimit": 10000
     },
     "inputWidgets": {},
     "nuid": "df0ac661-a1d2-404c-a8b4-ce9785c02e81",
     "showTitle": false,
     "tableResultSettingsMap": {},
     "title": ""
    }
   },
   "outputs": [],
   "source": [
    "\n",
    "df_proposicoes_bronze = spark.table(\"tb_proposicoes_bronze\") # Carrega a tabela bronze\n",
    "\n",
    "# Transformações\n",
    "df_proposicoes_silver = (\n",
    "     df_proposicoes_bronze\n",
    "     .withColumn(\n",
    "        \"ementa\",\n",
    "        F.when(F.col(\"ementa\").isNull(), F.lit(\"Não informado\"))\n",
    "        .otherwise(F.initcap(F.trim(F.col(\"ementa\"))))\n",
    "    )\n",
    "\n",
    "    .withColumn(\n",
    "        \"siglaTipo\",\n",
    "        F.when(F.col(\"siglaTipo\").isNull(), F.lit(\"Não se aplica\"))\n",
    "        .otherwise(F.trim(F.col(\"siglaTipo\")))\n",
    "    )\n",
    "\n",
    "    .withColumn(\"uri\", F.trim(F.col(\"uri\")))\n",
    "    .withColumn(\"url_origem\", F.trim(F.col(\"url_origem\")))\n",
    "\n",
    "    .withColumn(\"data_ingestao_silver\", F.current_timestamp()) # adiciona coluna de controle da camada silver\n",
    ")\n",
    "\n",
    "\n"
   ]
  },
  {
   "cell_type": "code",
   "execution_count": 0,
   "metadata": {
    "application/vnd.databricks.v1+cell": {
     "cellMetadata": {
      "byteLimit": 2048000,
      "rowLimit": 10000
     },
     "inputWidgets": {},
     "nuid": "cebdd6ce-a798-40c1-a4f4-5e9a071fd6bd",
     "showTitle": false,
     "tableResultSettingsMap": {},
     "title": ""
    }
   },
   "outputs": [],
   "source": [
    "# Salva a tabela em Delta \n",
    "df_proposicoes_silver.write.format(\"delta\").mode(\"overwrite\").saveAsTable(\"tb_proposicoes_silver\")\n",
    "\n",
    "print(\"Tabela 'tb_proposicoes_silver' criada/atualizada com sucesso!\")"
   ]
  },
  {
   "cell_type": "code",
   "execution_count": 0,
   "metadata": {
    "application/vnd.databricks.v1+cell": {
     "cellMetadata": {
      "byteLimit": 2048000,
      "implicitDf": true,
      "rowLimit": 10000
     },
     "inputWidgets": {},
     "nuid": "7c809342-d085-4df6-a844-353c8703dbc2",
     "showTitle": false,
     "tableResultSettingsMap": {
      "0": {
       "dataGridStateBlob": "{\"version\":1,\"tableState\":{\"columnPinning\":{\"left\":[\"#row_number#\"],\"right\":[]},\"columnSizing\":{},\"columnVisibility\":{}},\"settings\":{\"columns\":{\"uri\":{\"format\":{\"preset\":\"string-preset-url\"}},\"url_origem\":{\"format\":{\"preset\":\"string-preset-url\"}}}},\"syncTimestamp\":1759255734118}",
       "filterBlob": null,
       "queryPlanFiltersBlob": null,
       "tableResultIndex": 0
      }
     },
     "title": ""
    }
   },
   "outputs": [],
   "source": [
    "%sql\n",
    "select * from tb_proposicoes_silver;"
   ]
  }
 ],
 "metadata": {
  "application/vnd.databricks.v1+notebook": {
   "computePreferences": null,
   "dashboards": [],
   "environmentMetadata": {
    "base_environment": "",
    "environment_version": "3"
   },
   "inputWidgetPreferences": null,
   "language": "python",
   "notebookMetadata": {
    "mostRecentlyExecutedCommandWithImplicitDF": {
     "commandId": 1838632590527217,
     "dataframes": [
      "_sqldf"
     ]
    },
    "pythonIndentUnit": 4
   },
   "notebookName": "nb_proposicoes_silver",
   "widgets": {}
  },
  "language_info": {
   "name": "python"
  }
 },
 "nbformat": 4,
 "nbformat_minor": 0
}
