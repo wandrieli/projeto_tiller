{
 "cells": [
  {
   "cell_type": "markdown",
   "metadata": {
    "application/vnd.databricks.v1+cell": {
     "cellMetadata": {},
     "inputWidgets": {},
     "nuid": "9e822bd3-f2d2-470f-972b-3792a303513d",
     "showTitle": false,
     "tableResultSettingsMap": {},
     "title": ""
    }
   },
   "source": [
    "## Cabeçalho\n",
    "### Objetivo\n",
    "Limpar/Tratar os dados de proposicoes disponíveis em tb_proposicoes_bronze extraídos da API de dados abertos da Câmara dos Depoutados.\n",
    "\n",
    "**Sobre\n",
    "Data de crição**: 30/09/2025\n",
    "\n",
    "**Responsável:** Wandrieli Nery Barbosa"
   ]
  },
  {
   "cell_type": "markdown",
   "metadata": {
    "application/vnd.databricks.v1+cell": {
     "cellMetadata": {},
     "inputWidgets": {},
     "nuid": "308cfee3-d531-4667-b966-06d43800ddad",
     "showTitle": false,
     "tableResultSettingsMap": {},
     "title": ""
    }
   },
   "source": [
    "Parâmetros"
   ]
  },
  {
   "cell_type": "code",
   "execution_count": 0,
   "metadata": {
    "application/vnd.databricks.v1+cell": {
     "cellMetadata": {
      "byteLimit": 2048000,
      "rowLimit": 10000
     },
     "inputWidgets": {},
     "nuid": "910c3992-5e9d-4617-9a63-5776890fd4e8",
     "showTitle": false,
     "tableResultSettingsMap": {},
     "title": ""
    }
   },
   "outputs": [],
   "source": [
    "%run /Users/wandrieli.89@gmail.com/projeto_tiller/Parametros/nb_parametros"
   ]
  },
  {
   "cell_type": "code",
   "execution_count": 0,
   "metadata": {
    "application/vnd.databricks.v1+cell": {
     "cellMetadata": {
      "byteLimit": 2048000,
      "rowLimit": 10000
     },
     "inputWidgets": {},
     "nuid": "6ffe73bf-513e-4707-b076-52b3ebd3d597",
     "showTitle": false,
     "tableResultSettingsMap": {},
     "title": ""
    }
   },
   "outputs": [],
   "source": [
    "%run /Users/wandrieli.89@gmail.com/projeto_tiller/Parametros/nb_catalag_schema"
   ]
  },
  {
   "cell_type": "markdown",
   "metadata": {
    "application/vnd.databricks.v1+cell": {
     "cellMetadata": {},
     "inputWidgets": {},
     "nuid": "bae8ee25-15ca-4cd5-8ef9-b6e579a0ef6b",
     "showTitle": false,
     "tableResultSettingsMap": {},
     "title": ""
    }
   },
   "source": [
    "Transformação"
   ]
  },
  {
   "cell_type": "code",
   "execution_count": 0,
   "metadata": {
    "application/vnd.databricks.v1+cell": {
     "cellMetadata": {
      "byteLimit": 2048000,
      "rowLimit": 10000
     },
     "inputWidgets": {},
     "nuid": "df0ac661-a1d2-404c-a8b4-ce9785c02e81",
     "showTitle": false,
     "tableResultSettingsMap": {},
     "title": ""
    }
   },
   "outputs": [],
   "source": [
    "set_catalog_and_schema_silver() #Define catalog e schema conforme run\n",
    "\n",
    "df_proposicoes_bronze = spark.table(\"tiller.bronze.tb_proposicoes_bronze\") # Carrega a tabela bronze\n",
    "\n",
    "# Transformações\n",
    "df_proposicoes_silver = (\n",
    "     df_proposicoes_bronze\n",
    "     .withColumn(\n",
    "        \"ementa\",\n",
    "        F.when(F.col(\"ementa\").isNull(), F.lit(\"Não informado\"))\n",
    "        .otherwise(F.initcap(F.trim(F.col(\"ementa\"))))\n",
    "    )\n",
    "\n",
    "    .withColumn(\n",
    "        \"siglaTipo\",\n",
    "        F.when(F.col(\"siglaTipo\").isNull(), F.lit(\"Não se aplica\"))\n",
    "        .otherwise(F.trim(F.col(\"siglaTipo\")))\n",
    "    )\n",
    "\n",
    "    .withColumn(\"uri\", F.trim(F.col(\"uri\")))\n",
    "    .withColumn(\"url_origem\", F.trim(F.col(\"url_origem\")))\n",
    "\n",
    "    .withColumn(\"data_ingestao_silver\", F.current_timestamp()) # adiciona coluna de controle da camada silver\n",
    ")\n",
    "\n",
    "\n"
   ]
  },
  {
   "cell_type": "code",
   "execution_count": 0,
   "metadata": {
    "application/vnd.databricks.v1+cell": {
     "cellMetadata": {
      "byteLimit": 2048000,
      "rowLimit": 10000
     },
     "inputWidgets": {},
     "nuid": "cebdd6ce-a798-40c1-a4f4-5e9a071fd6bd",
     "showTitle": false,
     "tableResultSettingsMap": {},
     "title": ""
    }
   },
   "outputs": [],
   "source": [
    "# Salva a tabela em Delta \n",
    "df_proposicoes_silver.write.format(\"delta\").mode(\"overwrite\").saveAsTable(\"tb_proposicoes_silver\")\n",
    "\n",
    "print(\"Tabela 'tb_proposicoes_silver' criada/atualizada com sucesso!\")"
   ]
  },
  {
   "cell_type": "code",
   "execution_count": 0,
   "metadata": {
    "application/vnd.databricks.v1+cell": {
     "cellMetadata": {
      "byteLimit": 2048000,
      "implicitDf": true,
      "rowLimit": 10000
     },
     "inputWidgets": {},
     "nuid": "7c809342-d085-4df6-a844-353c8703dbc2",
     "showTitle": false,
     "tableResultSettingsMap": {
      "0": {
       "dataGridStateBlob": "{\"version\":1,\"tableState\":{\"columnPinning\":{\"left\":[\"#row_number#\"],\"right\":[]},\"columnSizing\":{},\"columnVisibility\":{}},\"settings\":{\"columns\":{\"uri\":{\"format\":{\"preset\":\"string-preset-url\"}},\"url_origem\":{\"format\":{\"preset\":\"string-preset-url\"}}}},\"syncTimestamp\":1759255734118}",
       "filterBlob": null,
       "queryPlanFiltersBlob": null,
       "tableResultIndex": 0
      }
     },
     "title": ""
    }
   },
   "outputs": [],
   "source": [
    "%sql\n",
    "select * from tiller.silver.tb_proposicoes_silver;"
   ]
  }
 ],
 "metadata": {
  "application/vnd.databricks.v1+notebook": {
   "computePreferences": null,
   "dashboards": [],
   "environmentMetadata": {
    "base_environment": "",
    "environment_version": "3"
   },
   "inputWidgetPreferences": null,
   "language": "python",
   "notebookMetadata": {
    "mostRecentlyExecutedCommandWithImplicitDF": {
     "commandId": 1838632590527217,
     "dataframes": [
      "_sqldf"
     ]
    },
    "pythonIndentUnit": 4
   },
   "notebookName": "nb_proposicoes_silver",
   "widgets": {}
  },
  "language_info": {
   "name": "python"
  }
 },
 "nbformat": 4,
 "nbformat_minor": 0
}
