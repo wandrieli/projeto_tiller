{
 "cells": [
  {
   "cell_type": "code",
   "execution_count": 0,
   "metadata": {
    "application/vnd.databricks.v1+cell": {
     "cellMetadata": {
      "byteLimit": 2048000,
      "rowLimit": 10000
     },
     "inputWidgets": {},
     "nuid": "6ffe73bf-513e-4707-b076-52b3ebd3d597",
     "showTitle": false,
     "tableResultSettingsMap": {},
     "title": ""
    }
   },
   "outputs": [],
   "source": [
    "#Instalação das bibliotecas necessárias\n",
    "\n",
    "from pyspark.sql import functions as F\n",
    "from pyspark.sql.types import DateType, TimestampType"
   ]
  },
  {
   "cell_type": "code",
   "execution_count": 0,
   "metadata": {
    "application/vnd.databricks.v1+cell": {
     "cellMetadata": {
      "byteLimit": 2048000,
      "implicitDf": true,
      "rowLimit": 10000
     },
     "inputWidgets": {},
     "nuid": "bf5ce1a3-d195-4161-9aa0-23c3084732f6",
     "showTitle": false,
     "tableResultSettingsMap": {},
     "title": ""
    }
   },
   "outputs": [],
   "source": [
    "%sql\n",
    "select * from tb_votacoes_bronze;"
   ]
  },
  {
   "cell_type": "code",
   "execution_count": 0,
   "metadata": {
    "application/vnd.databricks.v1+cell": {
     "cellMetadata": {
      "byteLimit": 2048000,
      "rowLimit": 10000
     },
     "inputWidgets": {},
     "nuid": "df0ac661-a1d2-404c-a8b4-ce9785c02e81",
     "showTitle": false,
     "tableResultSettingsMap": {},
     "title": ""
    }
   },
   "outputs": [],
   "source": [
    "\n",
    "df_votacoes_bronze = spark.table(\"tb_votacoes_bronze\") # Carrega a tabela bronze\n",
    "\n",
    "# Transformações\n",
    "df_votacoes_silver = (\n",
    "    df_votacoes_bronze\n",
    "    .withColumn(\"data\", F.to_date(\"data\", \"yyyy-MM-dd\"))\n",
    "    .withColumn(\"dataHoraRegistro\", F.to_timestamp(\"dataHoraRegistro\"))\n",
    "    .withColumn(\"descricao\", F.initcap(F.trim(\"descricao\")))\n",
    "    .withColumn(\n",
    "        \"resultado_votacao\",\n",
    "        F.when(F.col(\"aprovacao\") == 1, F.lit(\"Aprovada\"))\n",
    "         .when(F.col(\"aprovacao\") == 0, F.lit(\"Rejeitada\"))\n",
    "         .otherwise(F.lit(\"Desconhecida\")))\n",
    "    .withColumn(\"siglaOrgao\", F.upper(F.trim(\"siglaOrgao\")))\n",
    "    .withColumn(\"data_ingestao_silver\", F.current_timestamp()) # adiciona coluna de controle da camada silver\n",
    ")\n",
    "\n",
    "# Salva a tabela em Delta \n",
    "df_votacoes_silver.write.format(\"delta\").mode(\"overwrite\").saveAsTable(\"tb_votacoes_silver\")\n",
    "\n",
    "print(\"Tabela 'tb_votacoes_silver' criada/atualizada com sucesso!\")\n"
   ]
  },
  {
   "cell_type": "code",
   "execution_count": 0,
   "metadata": {
    "application/vnd.databricks.v1+cell": {
     "cellMetadata": {
      "byteLimit": 2048000,
      "implicitDf": true,
      "rowLimit": 10000
     },
     "inputWidgets": {},
     "nuid": "7c809342-d085-4df6-a844-353c8703dbc2",
     "showTitle": false,
     "tableResultSettingsMap": {
      "0": {
       "dataGridStateBlob": "{\"version\":1,\"tableState\":{\"columnPinning\":{\"left\":[\"#row_number#\"],\"right\":[]},\"columnSizing\":{},\"columnVisibility\":{}},\"settings\":{\"columns\":{\"uri\":{\"format\":{\"preset\":\"string-preset-url\"}},\"uriEvento\":{\"format\":{\"preset\":\"string-preset-url\"}},\"uriOrgao\":{\"format\":{\"preset\":\"string-preset-url\"}},\"uriProposicaoObjeto\":{\"format\":{\"preset\":\"string-preset-url\"}},\"url_origem\":{\"format\":{\"preset\":\"string-preset-url\"}}}},\"syncTimestamp\":1759234972593}",
       "filterBlob": null,
       "queryPlanFiltersBlob": null,
       "tableResultIndex": 0
      }
     },
     "title": ""
    }
   },
   "outputs": [],
   "source": [
    "%sql\n",
    "select * from tb_votacoes_silver;"
   ]
  }
 ],
 "metadata": {
  "application/vnd.databricks.v1+notebook": {
   "computePreferences": null,
   "dashboards": [],
   "environmentMetadata": {
    "base_environment": "",
    "environment_version": "3"
   },
   "inputWidgetPreferences": null,
   "language": "python",
   "notebookMetadata": {
    "mostRecentlyExecutedCommandWithImplicitDF": {
     "commandId": 5755781428737374,
     "dataframes": [
      "_sqldf"
     ]
    },
    "pythonIndentUnit": 4
   },
   "notebookName": "nb_votacoes_silver",
   "widgets": {}
  },
  "language_info": {
   "name": "python"
  }
 },
 "nbformat": 4,
 "nbformat_minor": 0
}
