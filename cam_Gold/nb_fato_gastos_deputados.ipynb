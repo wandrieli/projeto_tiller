{
 "cells": [
  {
   "cell_type": "markdown",
   "metadata": {
    "application/vnd.databricks.v1+cell": {
     "cellMetadata": {
      "byteLimit": 2048000,
      "rowLimit": 10000
     },
     "inputWidgets": {},
     "nuid": "dec0247c-465f-4f5f-a4fe-b3466f1c9134",
     "showTitle": false,
     "tableResultSettingsMap": {},
     "title": ""
    }
   },
   "source": [
    "Parâmetros"
   ]
  },
  {
   "cell_type": "code",
   "execution_count": 0,
   "metadata": {
    "application/vnd.databricks.v1+cell": {
     "cellMetadata": {
      "byteLimit": 2048000,
      "rowLimit": 10000
     },
     "inputWidgets": {},
     "nuid": "edd7a277-fd7c-4867-9267-92b3af237e5c",
     "showTitle": false,
     "tableResultSettingsMap": {},
     "title": ""
    }
   },
   "outputs": [],
   "source": [
    "%run /Users/wandrieli.89@gmail.com/projeto_tiller/Parametros/nb_catalag_schema"
   ]
  },
  {
   "cell_type": "markdown",
   "metadata": {
    "application/vnd.databricks.v1+cell": {
     "cellMetadata": {
      "byteLimit": 2048000,
      "rowLimit": 10000
     },
     "inputWidgets": {},
     "nuid": "64a9338d-a8cf-4d55-9c97-28ff4e6757a3",
     "showTitle": false,
     "tableResultSettingsMap": {},
     "title": ""
    }
   },
   "source": [
    "Regras e Definições"
   ]
  },
  {
   "cell_type": "code",
   "execution_count": 0,
   "metadata": {
    "application/vnd.databricks.v1+cell": {
     "cellMetadata": {
      "byteLimit": 2048000,
      "implicitDf": true,
      "rowLimit": 10000
     },
     "collapsed": true,
     "inputWidgets": {},
     "nuid": "2b2aeae2-0756-4645-ab8e-e68c1c0fdd57",
     "showTitle": false,
     "tableResultSettingsMap": {
      "0": {
       "dataGridStateBlob": "{\"version\":1,\"tableState\":{\"columnPinning\":{\"left\":[\"#row_number#\"],\"right\":[]},\"columnSizing\":{},\"columnVisibility\":{}},\"settings\":{\"columns\":{\"urlDocumento\":{\"format\":{\"preset\":\"string-preset-url\"}}}},\"syncTimestamp\":1760034629810}",
       "filterBlob": null,
       "queryPlanFiltersBlob": null,
       "tableResultIndex": 0
      }
     },
     "title": ""
    }
   },
   "outputs": [],
   "source": [
    "%sql\n",
    "select * from tiller.silver.tb_despesas_silver;"
   ]
  },
  {
   "cell_type": "code",
   "execution_count": 0,
   "metadata": {
    "application/vnd.databricks.v1+cell": {
     "cellMetadata": {
      "byteLimit": 2048000,
      "rowLimit": 10000
     },
     "inputWidgets": {},
     "nuid": "e24efece-35bd-4204-ac0b-44563ec0c856",
     "showTitle": false,
     "tableResultSettingsMap": {},
     "title": ""
    }
   },
   "outputs": [],
   "source": [
    "set_catalog_and_schema_gold() #Define catalog e schema conforme run"
   ]
  },
  {
   "cell_type": "code",
   "execution_count": 0,
   "metadata": {
    "application/vnd.databricks.v1+cell": {
     "cellMetadata": {
      "byteLimit": 2048000,
      "implicitDf": true,
      "rowLimit": 10000
     },
     "inputWidgets": {},
     "nuid": "ff15ecb1-dcf8-492e-8fa4-cde9c8413be8",
     "showTitle": false,
     "tableResultSettingsMap": {},
     "title": ""
    }
   },
   "outputs": [],
   "source": [
    "query = f\"\"\"\n",
    "SELECT\n",
    "    d.nuDeputadoId        AS id_deputado,\n",
    "    d.sgPartido           AS sigla_partido,\n",
    "    d.sgUF                AS sigla_uf,\n",
    "    d.ideDocumento        AS id_despesa,\n",
    "    d.txtCNPJCPF          AS cnpj_cpf_fornecedor,\n",
    "    d.indTipoDocumento    AS tipo_documento,\n",
    "    d.txtNumero           AS numero_documento,\n",
    "    d.data_emissao,\n",
    "    d.valor_documento,\n",
    "    d.valor_glosa,\n",
    "    d.valor_liquido,\n",
    "    d.urlDocumento        AS url_documento,\n",
    "    d.numSubCota,\n",
    "    d.numParcela,\n",
    "    d.ano,\n",
    "    d.mes,\n",
    "    d.fonte_arquivo,\n",
    "    date_trunc('second', CURRENT_TIMESTAMP()) AS data_ingestao, -- Atualiza data de ingestão até o segundo apenas date_trunc\n",
    "    date_trunc('second', CURRENT_TIMESTAMP()) AS data_modificacao\n",
    "FROM tiller.silver.tb_despesas_silver d\n",
    "LEFT JOIN tiller.gold.dim_deputados dep\n",
    "    ON CAST(d.nuDeputadoId AS STRING) = dep.id_deputado\n",
    "\"\"\"\n",
    "\n",
    "df_despesas = spark.sql(query)\n",
    "\n",
    "df_despesas.write \\\n",
    "    .format(\"delta\") \\\n",
    "    .mode(\"overwrite\") \\\n",
    "    .option(\"overwriteSchema\", \"true\") \\\n",
    "    .saveAsTable(\"fato_gastos_deputados\")\n",
    "\n",
    "print(\"Fato criada/atualizada com sucesso!\")\n"
   ]
  },
  {
   "cell_type": "markdown",
   "metadata": {
    "application/vnd.databricks.v1+cell": {
     "cellMetadata": {
      "byteLimit": 2048000,
      "rowLimit": 10000
     },
     "inputWidgets": {},
     "nuid": "5fd9c5dc-20e2-4ee7-adba-fc302c34ac6d",
     "showTitle": false,
     "tableResultSettingsMap": {},
     "title": ""
    }
   },
   "source": [
    "Comentários das colunas"
   ]
  },
  {
   "cell_type": "code",
   "execution_count": 0,
   "metadata": {
    "application/vnd.databricks.v1+cell": {
     "cellMetadata": {
      "byteLimit": 2048000,
      "implicitDf": true,
      "rowLimit": 10000
     },
     "inputWidgets": {},
     "nuid": "e4945029-85c0-485b-bc81-918cb0551f51",
     "showTitle": false,
     "tableResultSettingsMap": {},
     "title": ""
    }
   },
   "outputs": [],
   "source": [
    "%sql\n",
    "COMMENT ON COLUMN tiller.gold.fato_gastos_deputados.id_deputado IS 'ID do deputado conforme base fonte, referenciando dim_deputados';\n",
    "COMMENT ON COLUMN tiller.gold.fato_gastos_deputados.sigla_partido IS 'Sigla do partido do deputado na data da despesa';\n",
    "COMMENT ON COLUMN tiller.gold.fato_gastos_deputados.sigla_uf IS 'Sigla da unidade federativa do deputado na data da despesa';\n",
    "COMMENT ON COLUMN tiller.gold.fato_gastos_deputados.id_despesa IS 'ID da despesa conforme sistema fonte, referenciando dim_despesas';\n",
    "COMMENT ON COLUMN tiller.gold.fato_gastos_deputados.cnpj_cpf_fornecedor IS 'CNPJ ou CPF do fornecedor, referenciando dim_fornecedores';\n",
    "COMMENT ON COLUMN tiller.gold.fato_gastos_deputados.tipo_documento IS 'Tipo de documento da despesa';\n",
    "COMMENT ON COLUMN tiller.gold.fato_gastos_deputados.numero_documento IS 'Número do documento da despesa';\n",
    "COMMENT ON COLUMN tiller.gold.fato_gastos_deputados.data_emissao IS 'Data de emissão da despesa';\n",
    "COMMENT ON COLUMN tiller.gold.fato_gastos_deputados.valor_documento IS 'Valor total da despesa';\n",
    "COMMENT ON COLUMN tiller.gold.fato_gastos_deputados.valor_glosa IS 'Valor glosado da despesa';\n",
    "COMMENT ON COLUMN tiller.gold.fato_gastos_deputados.valor_liquido IS 'Valor líquido da despesa';\n",
    "COMMENT ON COLUMN tiller.gold.fato_gastos_deputados.url_documento IS 'URL do documento da despesa';\n",
    "COMMENT ON COLUMN tiller.gold.fato_gastos_deputados.numSubCota IS 'Número da subcota utilizada na despesa';\n",
    "COMMENT ON COLUMN tiller.gold.fato_gastos_deputados.numParcela IS 'Número da parcela da despesa';\n",
    "COMMENT ON COLUMN tiller.gold.fato_gastos_deputados.ano IS 'Ano da despesa';\n",
    "COMMENT ON COLUMN tiller.gold.fato_gastos_deputados.mes IS 'Mês da despesa';\n",
    "COMMENT ON COLUMN tiller.gold.fato_gastos_deputados.fonte_arquivo IS 'Fonte do arquivo original da despesa';\n",
    "COMMENT ON COLUMN tiller.gold.fato_gastos_deputados.data_ingestao IS 'Data e hora da ingestão do registro na tabela fato';\n",
    "COMMENT ON COLUMN tiller.gold.fato_gastos_deputados.data_modificacao IS 'Data e hora da última modificação registrada na tabela fato';\n"
   ]
  },
  {
   "cell_type": "code",
   "execution_count": 0,
   "metadata": {
    "application/vnd.databricks.v1+cell": {
     "cellMetadata": {
      "byteLimit": 2048000,
      "implicitDf": true,
      "rowLimit": 10000
     },
     "inputWidgets": {},
     "nuid": "91d7d69e-895c-4a79-9ae9-2d2e1dbd5ef5",
     "showTitle": false,
     "tableResultSettingsMap": {},
     "title": ""
    }
   },
   "outputs": [],
   "source": [
    "%sql\n",
    "\n",
    "SELECT COUNT(*) AS total, MIN(data_ingestao) AS primeira_carga\n",
    "FROM fato_gastos_deputados;\n"
   ]
  },
  {
   "cell_type": "code",
   "execution_count": 0,
   "metadata": {
    "application/vnd.databricks.v1+cell": {
     "cellMetadata": {
      "byteLimit": 2048000,
      "implicitDf": true,
      "rowLimit": 10000
     },
     "inputWidgets": {},
     "nuid": "af3aa665-d7aa-403e-b159-8127bb7048e8",
     "showTitle": false,
     "tableResultSettingsMap": {
      "0": {
       "dataGridStateBlob": "{\"version\":1,\"tableState\":{\"columnPinning\":{\"left\":[\"#row_number#\"],\"right\":[]},\"columnSizing\":{},\"columnVisibility\":{}},\"settings\":{\"columns\":{\"url_documento\":{\"format\":{\"preset\":\"string-preset-url\"}}}},\"syncTimestamp\":1760036301531}",
       "filterBlob": null,
       "queryPlanFiltersBlob": null,
       "tableResultIndex": 0
      }
     },
     "title": ""
    }
   },
   "outputs": [],
   "source": [
    "%sql\n",
    "select * from tiller.gold.fato_gastos_deputados;"
   ]
  }
 ],
 "metadata": {
  "application/vnd.databricks.v1+notebook": {
   "computePreferences": null,
   "dashboards": [],
   "environmentMetadata": {
    "base_environment": "",
    "environment_version": "3"
   },
   "inputWidgetPreferences": null,
   "language": "python",
   "notebookMetadata": {
    "mostRecentlyExecutedCommandWithImplicitDF": {
     "commandId": 1381443934380488,
     "dataframes": [
      "_sqldf"
     ]
    },
    "pythonIndentUnit": 4
   },
   "notebookName": "nb_fato_gastos_deputados",
   "widgets": {}
  },
  "language_info": {
   "name": "python"
  }
 },
 "nbformat": 4,
 "nbformat_minor": 0
}
