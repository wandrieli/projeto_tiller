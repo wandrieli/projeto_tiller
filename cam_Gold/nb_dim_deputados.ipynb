{
 "cells": [
  {
   "cell_type": "markdown",
   "metadata": {
    "application/vnd.databricks.v1+cell": {
     "cellMetadata": {
      "byteLimit": 2048000,
      "rowLimit": 10000
     },
     "inputWidgets": {},
     "nuid": "dec0247c-465f-4f5f-a4fe-b3466f1c9134",
     "showTitle": false,
     "tableResultSettingsMap": {},
     "title": ""
    }
   },
   "source": [
    "Parâmetros"
   ]
  },
  {
   "cell_type": "code",
   "execution_count": 0,
   "metadata": {
    "application/vnd.databricks.v1+cell": {
     "cellMetadata": {
      "byteLimit": 2048000,
      "rowLimit": 10000
     },
     "inputWidgets": {},
     "nuid": "edd7a277-fd7c-4867-9267-92b3af237e5c",
     "showTitle": false,
     "tableResultSettingsMap": {},
     "title": ""
    }
   },
   "outputs": [],
   "source": [
    "%run /Users/wandrieli.89@gmail.com/projeto_tiller/Parametros/nb_catalag_schema"
   ]
  },
  {
   "cell_type": "markdown",
   "metadata": {
    "application/vnd.databricks.v1+cell": {
     "cellMetadata": {
      "byteLimit": 2048000,
      "rowLimit": 10000
     },
     "inputWidgets": {},
     "nuid": "64a9338d-a8cf-4d55-9c97-28ff4e6757a3",
     "showTitle": false,
     "tableResultSettingsMap": {},
     "title": ""
    }
   },
   "source": [
    "Regras e Definições"
   ]
  },
  {
   "cell_type": "code",
   "execution_count": 0,
   "metadata": {
    "application/vnd.databricks.v1+cell": {
     "cellMetadata": {
      "byteLimit": 2048000,
      "implicitDf": true,
      "rowLimit": 10000
     },
     "collapsed": true,
     "inputWidgets": {},
     "nuid": "2b2aeae2-0756-4645-ab8e-e68c1c0fdd57",
     "showTitle": false,
     "tableResultSettingsMap": {},
     "title": ""
    }
   },
   "outputs": [],
   "source": [
    "%sql\n",
    "select * from tiller.silver.tb_deputados_silver;"
   ]
  },
  {
   "cell_type": "code",
   "execution_count": 0,
   "metadata": {
    "application/vnd.databricks.v1+cell": {
     "cellMetadata": {
      "byteLimit": 2048000,
      "rowLimit": 10000
     },
     "inputWidgets": {},
     "nuid": "5580370a-8c45-450f-a9f4-3f04b17b0481",
     "showTitle": false,
     "tableResultSettingsMap": {},
     "title": ""
    }
   },
   "outputs": [],
   "source": [
    "set_catalog_and_schema_gold() #Define catalog e schema conforme run"
   ]
  },
  {
   "cell_type": "code",
   "execution_count": 0,
   "metadata": {
    "application/vnd.databricks.v1+cell": {
     "cellMetadata": {
      "byteLimit": 2048000,
      "implicitDf": true,
      "rowLimit": 10000
     },
     "inputWidgets": {},
     "nuid": "ff15ecb1-dcf8-492e-8fa4-cde9c8413be8",
     "showTitle": false,
     "tableResultSettingsMap": {},
     "title": ""
    }
   },
   "outputs": [],
   "source": [
    "query = f\"\"\"\n",
    "SELECT DISTINCT\n",
    "    id_deputado,\n",
    "    nome,\n",
    "    sigla_partido,\n",
    "    sigla_uf,\n",
    "    email,\n",
    "    id_legislatura,\n",
    "    url_foto,\n",
    "    data_ingestao_silver AS data_ingestao,\n",
    "    data_modificacao_silver AS data_modificacao\n",
    "FROM tiller.silver.tb_deputados_silver\n",
    "\"\"\"\n",
    "\n",
    "\n",
    "deputados = spark.sql(query)\n",
    "\n",
    "deputados.write \\\n",
    "    .format(\"delta\") \\\n",
    "    .mode(\"overwrite\") \\\n",
    "    .option(\"overwriteSchema\", \"true\") \\\n",
    "    .saveAsTable(\"dim_deputados\")\n"
   ]
  },
  {
   "cell_type": "markdown",
   "metadata": {
    "application/vnd.databricks.v1+cell": {
     "cellMetadata": {
      "byteLimit": 2048000,
      "rowLimit": 10000
     },
     "inputWidgets": {},
     "nuid": "919c315d-dcc2-47a8-be11-06b22692af35",
     "showTitle": false,
     "tableResultSettingsMap": {},
     "title": ""
    }
   },
   "source": [
    "Incluindo comentários nas colunas"
   ]
  },
  {
   "cell_type": "code",
   "execution_count": 0,
   "metadata": {
    "application/vnd.databricks.v1+cell": {
     "cellMetadata": {
      "byteLimit": 2048000,
      "implicitDf": true,
      "rowLimit": 10000
     },
     "inputWidgets": {},
     "nuid": "d18581c9-5d5f-46bb-98ba-4a8d53c31767",
     "showTitle": false,
     "tableResultSettingsMap": {},
     "title": ""
    }
   },
   "outputs": [],
   "source": [
    "%sql\n",
    "COMMENT ON COLUMN tiller.gold.dim_deputados.id_deputado IS 'ID do deputado conforme a base fonte';\n",
    "COMMENT ON COLUMN tiller.gold.dim_deputados.nome IS 'Nome completo do deputado';\n",
    "COMMENT ON COLUMN tiller.gold.dim_deputados.sigla_partido IS 'Sigla do partido do deputado';\n",
    "COMMENT ON COLUMN tiller.gold.dim_deputados.sigla_uf IS 'Sigla da unidade federativa do deputado';\n",
    "COMMENT ON COLUMN tiller.gold.dim_deputados.email IS 'E-mail do deputado';\n",
    "COMMENT ON COLUMN tiller.gold.dim_deputados.id_legislatura IS 'ID da legislatura à qual o deputado pertence';\n",
    "COMMENT ON COLUMN tiller.gold.dim_deputados.url_foto IS 'URL da foto do deputado, valor tratado e sem espaços';\n",
    "COMMENT ON COLUMN tiller.gold.dim_deputados.data_ingestao IS 'Data e hora da ingestão dos dados na tabela Gold';\n",
    "COMMENT ON COLUMN tiller.gold.dim_deputados.data_modificacao IS 'Data e hora da última modificação registrada na tabela Gold';\n"
   ]
  },
  {
   "cell_type": "code",
   "execution_count": 0,
   "metadata": {
    "application/vnd.databricks.v1+cell": {
     "cellMetadata": {
      "byteLimit": 2048000,
      "implicitDf": true,
      "rowLimit": 10000
     },
     "collapsed": true,
     "inputWidgets": {},
     "nuid": "9047e810-dacc-462f-801b-f356a45914fd",
     "showTitle": false,
     "tableResultSettingsMap": {},
     "title": ""
    }
   },
   "outputs": [],
   "source": [
    "%sql\n",
    "SELECT COUNT(*) AS total, MIN(data_ingestao) AS primeira_carga\n",
    "FROM dim_deputados;"
   ]
  },
  {
   "cell_type": "code",
   "execution_count": 0,
   "metadata": {
    "application/vnd.databricks.v1+cell": {
     "cellMetadata": {
      "byteLimit": 2048000,
      "implicitDf": true,
      "rowLimit": 10000
     },
     "collapsed": true,
     "inputWidgets": {},
     "nuid": "af3aa665-d7aa-403e-b159-8127bb7048e8",
     "showTitle": false,
     "tableResultSettingsMap": {},
     "title": ""
    }
   },
   "outputs": [],
   "source": [
    "%sql\n",
    "select * from tiller.gold.dim_deputados;"
   ]
  }
 ],
 "metadata": {
  "application/vnd.databricks.v1+notebook": {
   "computePreferences": null,
   "dashboards": [],
   "environmentMetadata": {
    "base_environment": "",
    "environment_version": "3"
   },
   "inputWidgetPreferences": null,
   "language": "python",
   "notebookMetadata": {
    "mostRecentlyExecutedCommandWithImplicitDF": {
     "commandId": 5596773609515174,
     "dataframes": [
      "_sqldf"
     ]
    },
    "pythonIndentUnit": 4
   },
   "notebookName": "nb_dim_deputados",
   "widgets": {}
  },
  "language_info": {
   "name": "python"
  }
 },
 "nbformat": 4,
 "nbformat_minor": 0
}
