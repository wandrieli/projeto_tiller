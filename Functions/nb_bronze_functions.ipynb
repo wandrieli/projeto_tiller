{
 "cells": [
  {
   "cell_type": "code",
   "execution_count": 0,
   "metadata": {
    "application/vnd.databricks.v1+cell": {
     "cellMetadata": {
      "byteLimit": 2048000,
      "rowLimit": 10000
     },
     "inputWidgets": {},
     "nuid": "892bcd86-37ce-4785-a2d5-95e7afe2383c",
     "showTitle": false,
     "tableResultSettingsMap": {},
     "title": ""
    }
   },
   "outputs": [],
   "source": [
    "import requests"
   ]
  },
  {
   "cell_type": "markdown",
   "metadata": {
    "application/vnd.databricks.v1+cell": {
     "cellMetadata": {},
     "inputWidgets": {},
     "nuid": "037587a8-1395-4452-9a55-a01cafd3df60",
     "showTitle": false,
     "tableResultSettingsMap": {},
     "title": ""
    }
   },
   "source": [
    "Funções nb_deputados"
   ]
  },
  {
   "cell_type": "code",
   "execution_count": 0,
   "metadata": {
    "application/vnd.databricks.v1+cell": {
     "cellMetadata": {
      "byteLimit": 2048000,
      "rowLimit": 10000
     },
     "inputWidgets": {},
     "nuid": "079e41ae-6513-48c9-adb3-d62a568e7fef",
     "showTitle": false,
     "tableResultSettingsMap": {},
     "title": ""
    }
   },
   "outputs": [],
   "source": [
    "def get_deputados(pagina=1, itens=100):\n",
    "    \"\"\"\n",
    "    Requisição para API\n",
    "    pagina: número da página\n",
    "    itens: número de itens por página (máx 100)\n",
    "    Retorna a lista de deputados\n",
    "    \"\"\"\n",
    "    url = f\"https://dadosabertos.camara.leg.br/api/v2/deputados?pagina={pagina}&itens={itens}\"\n",
    "    response = requests.get(url, headers={\"accept\": \"application/json\"})\n",
    "    response.raise_for_status()\n",
    "    return response.json()[\"dados\"]\n",
    "\n",
    "\n",
    "def get_all_deputados(itens_por_pagina=100, limite_paginas=None):\n",
    "    \"\"\"\n",
    "    Busca todos os deputados da API (com paginação).\n",
    "    itens_por_pagina: máximo de registros por página (default 100)\n",
    "    limite_paginas: Quais páginas, onde None = todas disponíveis\n",
    "    lista todos os deputados\n",
    "    \"\"\"\n",
    "    deputados = []\n",
    "    pagina = 1\n",
    "    while True:\n",
    "        dados = get_deputados(pagina=pagina, itens=itens_por_pagina)\n",
    "        if not dados:  \n",
    "            break\n",
    "        deputados.extend(dados)\n",
    "        pagina += 1\n",
    "        if limite_paginas and pagina > limite_paginas:\n",
    "            break\n",
    "    return deputados\n",
    "\n",
    "\n",
    "def deputados_to_dataframe(deputados):\n",
    "    \"\"\"\n",
    "    Converte lista de deputados para DataFrame Spark.\n",
    "    \"\"\"\n",
    "    return spark.createDataFrame(deputados)\n",
    "\n",
    "\n",
    "def save_deputados(df, tabela=\"tb_deputados\"):\n",
    "    \"\"\"\n",
    "    Salva o DataFrame como tabela no Databricks.\n",
    "    tabela: Nome da tabela a ser criada\n",
    "    \"\"\"\n",
    "    df.write.mode(\"overwrite\").saveAsTable(tabela)\n",
    "    print(f\"Tabela '{tabela}' criada/atualizada com sucesso!\")"
   ]
  }
 ],
 "metadata": {
  "application/vnd.databricks.v1+notebook": {
   "computePreferences": null,
   "dashboards": [],
   "environmentMetadata": {
    "base_environment": "",
    "environment_version": "3"
   },
   "inputWidgetPreferences": null,
   "language": "python",
   "notebookMetadata": {
    "pythonIndentUnit": 4
   },
   "notebookName": "nb_bronze_functions",
   "widgets": {}
  },
  "language_info": {
   "name": "python"
  }
 },
 "nbformat": 4,
 "nbformat_minor": 0
}
