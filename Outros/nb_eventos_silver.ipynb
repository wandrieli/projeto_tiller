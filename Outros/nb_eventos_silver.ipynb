{
 "cells": [
  {
   "cell_type": "markdown",
   "metadata": {
    "application/vnd.databricks.v1+cell": {
     "cellMetadata": {
      "byteLimit": 2048000,
      "rowLimit": 10000
     },
     "inputWidgets": {},
     "nuid": "2094750a-5652-4191-bf14-c93f03e3985c",
     "showTitle": false,
     "tableResultSettingsMap": {},
     "title": ""
    }
   },
   "source": [
    "## Cabeçalho\n",
    "### Objetivo\n",
    "Limpar/Tratar os dados de eventos disponíveis em tb_eventos_bronze extraídos da API de dados abertos da Câmara dos Depoutados.\n",
    "\n",
    "**Sobre\n",
    "Data de crição**: 30/09/2025\n",
    "\n",
    "**Responsável:** Wandrieli Nery Barbosa"
   ]
  },
  {
   "cell_type": "markdown",
   "metadata": {
    "application/vnd.databricks.v1+cell": {
     "cellMetadata": {
      "byteLimit": 2048000,
      "rowLimit": 10000
     },
     "inputWidgets": {},
     "nuid": "72211fc4-8e20-4e61-bde3-ec8d08e10f04",
     "showTitle": false,
     "tableResultSettingsMap": {},
     "title": ""
    }
   },
   "source": [
    "Parâmetros"
   ]
  },
  {
   "cell_type": "code",
   "execution_count": 0,
   "metadata": {
    "application/vnd.databricks.v1+cell": {
     "cellMetadata": {
      "byteLimit": 2048000,
      "rowLimit": 10000
     },
     "inputWidgets": {},
     "nuid": "6ffe73bf-513e-4707-b076-52b3ebd3d597",
     "showTitle": false,
     "tableResultSettingsMap": {},
     "title": ""
    }
   },
   "outputs": [],
   "source": [
    "%run /Users/wandrieli.89@gmail.com/projeto_tiller/Parametros/nb_parametros"
   ]
  },
  {
   "cell_type": "code",
   "execution_count": 0,
   "metadata": {
    "application/vnd.databricks.v1+cell": {
     "cellMetadata": {
      "byteLimit": 2048000,
      "rowLimit": 10000
     },
     "inputWidgets": {},
     "nuid": "57b62d24-89b7-4d78-a473-93aa4c1a83f7",
     "showTitle": false,
     "tableResultSettingsMap": {},
     "title": ""
    }
   },
   "outputs": [],
   "source": [
    "%run /Users/wandrieli.89@gmail.com/projeto_tiller/Parametros/nb_catalag_schema"
   ]
  },
  {
   "cell_type": "markdown",
   "metadata": {
    "application/vnd.databricks.v1+cell": {
     "cellMetadata": {
      "byteLimit": 2048000,
      "rowLimit": 10000
     },
     "inputWidgets": {},
     "nuid": "060645ae-0153-4efe-9f68-9dc3e9719a06",
     "showTitle": false,
     "tableResultSettingsMap": {},
     "title": ""
    }
   },
   "source": [
    "Transformação"
   ]
  },
  {
   "cell_type": "code",
   "execution_count": 0,
   "metadata": {
    "application/vnd.databricks.v1+cell": {
     "cellMetadata": {
      "byteLimit": 2048000,
      "implicitDf": true,
      "rowLimit": 10000
     },
     "collapsed": true,
     "inputWidgets": {},
     "nuid": "2301d2b2-5f32-404a-ae78-dcc220e298ee",
     "showTitle": false,
     "tableResultSettingsMap": {},
     "title": ""
    }
   },
   "outputs": [],
   "source": [
    "%sql\n",
    "select * from tb_eventos_bronze;"
   ]
  },
  {
   "cell_type": "code",
   "execution_count": 0,
   "metadata": {
    "application/vnd.databricks.v1+cell": {
     "cellMetadata": {
      "byteLimit": 2048000,
      "rowLimit": 10000
     },
     "inputWidgets": {},
     "nuid": "df0ac661-a1d2-404c-a8b4-ce9785c02e81",
     "showTitle": false,
     "tableResultSettingsMap": {},
     "title": ""
    }
   },
   "outputs": [],
   "source": [
    "set_catalog_and_schema_silver() #Define catalog e schema conforme run\n",
    "\n",
    "df_eventos_bronze = spark.table(\"tiller.bronze.tb_eventos_bronze\") # Carrega a tabela bronze\n",
    "\n",
    "# Transformações\n",
    "df_eventos_silver = (\n",
    "    df_eventos_bronze\n",
    "    .withColumn(\"data\", F.to_timestamp(\"dataHoraFim\"))\n",
    "    .withColumn(\"dataHoraInicio\", F.to_timestamp(\"dataHoraInicio\"))\n",
    "    .withColumn(\"descricao\", F.initcap(F.trim(\"descricao\")))\n",
    "    .withColumn(\"descricaoTipo\", F.initcap(F.trim(\"descricaoTipo\")))\n",
    "    .withColumn(\"localExterno\", F.initcap(F.trim(\"localExterno\")))\n",
    "\n",
    "    .withColumn(\"localCamara_nome\", F.col(\"localCamara\").getItem(\"nome\"))\n",
    "    .withColumn(\"localCamara_predio\", F.col(\"localCamara\").getItem(\"predio\"))\n",
    "    .withColumn(\"localCamara_sala\", F.col(\"localCamara\").getItem(\"sala\"))\n",
    "    .withColumn(\"localCamara_andar\", F.col(\"localCamara\").getItem(\"andar\"))\n",
    "\n",
    "    .withColumn(\"orgaos_nomePublicacao\", F.col(\"localCamara\").getItem(\"nomePublicacao\"))\n",
    "    .withColumn(\"orgaos_uri\", F.col(\"localCamara\").getItem(\"uri\"))\n",
    "    .withColumn(\"orgaos_codTipoOrgao\", F.col(\"localCamara\").getItem(\"codTipoOrgao\"))\n",
    "    .withColumn(\"orgaos_tipoOrgao\", F.col(\"localCamara\").getItem(\"tipoOrgao\"))\n",
    "    .withColumn(\"orgaos_nomeResumido\", F.col(\"localCamara\").getItem(\"nomeResumido\"))\n",
    "    .withColumn(\"orgaos_id\", F.col(\"localCamara\").getItem(\"id\"))\n",
    "    .withColumn(\"orgaos_sigla\", F.col(\"localCamara\").getItem(\"sigla\"))\n",
    "    .withColumn(\"orgaos_apelido\", F.col(\"localCamara\").getItem(\"apelido\"))\n",
    "    .withColumn(\"orgaos_nome\", F.col(\"localCamara\").getItem(\"nome\"))\n",
    "\n",
    "\n",
    "    .withColumn(\"localCamara_nome\", F.initcap(F.trim(\"localCamara_nome\")))\n",
    "    .withColumn(\"localCamara_predio\", F.initcap(F.trim(\"localCamara_predio\")))\n",
    "    .withColumn(\"localCamara_sala\", F.initcap(F.trim(\"localCamara_sala\")))\n",
    "\n",
    "    .withColumn(\"orgaos_nomePublicacao\", F.initcap(F.trim(\"orgaos_nomePublicacao\")))\n",
    "    .withColumn(\"orgaos_uri\", F.initcap(F.trim(\"orgaos_uri\")))\n",
    "    .withColumn(\"orgaos_codTipoOrgao\", F.initcap(F.trim(\"orgaos_codTipoOrgao\")))\n",
    "    .withColumn(\"orgaos_tipoOrgao\", F.initcap(F.trim(\"orgaos_tipoOrgao\")))\n",
    "    .withColumn(\"orgaos_nomeResumido\", F.initcap(F.trim(\"orgaos_nomeResumido\")))\n",
    "    .withColumn(\"orgaos_sigla\", F.upper(F.trim(\"orgaos_sigla\")))\n",
    "    .withColumn(\"orgaos_apelido\", F.initcap(F.trim(\"orgaos_apelido\")))\n",
    "    .withColumn(\"orgaos_nome\", F.initcap(F.trim(\"orgaos_nome\")))\n",
    "\n",
    "\n",
    "    .withColumn(\"situacao\", F.initcap(F.trim(\"situacao\")))\n",
    "    .withColumn(\"situacao\", F.initcap(F.trim(\"situacao\")))\n",
    "    .withColumn(\"situacao\", F.initcap(F.trim(\"situacao\")))\n",
    "    .withColumn(\"situacao\", F.initcap(F.trim(\"situacao\")))\n",
    "    .withColumn(\"data_ingestao_silver\", F.current_timestamp()) # adiciona coluna de controle da camada silver\n",
    "\n",
    "    .withColumn(\"localCamara_nome\", \n",
    "                F.when(F.col(\"localCamara_nome\").isNull(), \"Evento Externo\")\n",
    "                .otherwise(F.col(\"localCamara_nome\"))\n",
    "                )\n",
    "    \n",
    "    .withColumn(\"orgaos_nome\", \n",
    "                F.when(F.col(\"orgaos_nome\").isNull(), \"Não informado\")\n",
    "                .otherwise(F.col(\"orgaos_nome\"))\n",
    "                ) \n",
    "\n",
    "    .withColumn(\"localExterno\", \n",
    "                F.when(F.col(\"localExterno\").isNull(), \"Evento Interno\")\n",
    "                .otherwise(F.col(\"localExterno\"))\n",
    "                )       \n",
    "\n",
    "    .drop(\"localCamara\")\n",
    "    .drop(\"orgaos\")\n",
    "    .filter(F.col(\"id\").isNotNull())\n",
    "\n",
    ")\n"
   ]
  },
  {
   "cell_type": "code",
   "execution_count": 0,
   "metadata": {
    "application/vnd.databricks.v1+cell": {
     "cellMetadata": {
      "byteLimit": 2048000,
      "rowLimit": 10000
     },
     "inputWidgets": {},
     "nuid": "175e2c41-430c-45f9-ae69-06e49ecd9ed5",
     "showTitle": false,
     "tableResultSettingsMap": {},
     "title": ""
    }
   },
   "outputs": [],
   "source": [
    "# Salva a tabela em Delta \n",
    "df_eventos_silver.write.format(\"delta\").mode(\"overwrite\").saveAsTable(\"tb_eventos_silver\")\n",
    "\n",
    "print(\"Tabela criada/atualizada com sucesso!\")"
   ]
  },
  {
   "cell_type": "code",
   "execution_count": 0,
   "metadata": {
    "application/vnd.databricks.v1+cell": {
     "cellMetadata": {
      "byteLimit": 2048000,
      "implicitDf": true,
      "rowLimit": 10000
     },
     "inputWidgets": {},
     "nuid": "7c809342-d085-4df6-a844-353c8703dbc2",
     "showTitle": false,
     "tableResultSettingsMap": {
      "0": {
       "dataGridStateBlob": "{\"version\":1,\"tableState\":{\"columnPinning\":{\"left\":[\"#row_number#\"],\"right\":[]},\"columnSizing\":{},\"columnVisibility\":{}},\"settings\":{\"columns\":{\"uri\":{\"format\":{\"preset\":\"string-preset-url\"}},\"urlRegistro\":{\"format\":{\"preset\":\"string-preset-url\"}},\"url_origem\":{\"format\":{\"preset\":\"string-preset-url\"}}}},\"syncTimestamp\":1759251810112}",
       "filterBlob": null,
       "queryPlanFiltersBlob": null,
       "tableResultIndex": 0
      }
     },
     "title": ""
    }
   },
   "outputs": [],
   "source": [
    "%sql\n",
    "select * from tiller.silver.tb_eventos_silver;"
   ]
  }
 ],
 "metadata": {
  "application/vnd.databricks.v1+notebook": {
   "computePreferences": null,
   "dashboards": [],
   "environmentMetadata": {
    "base_environment": "",
    "environment_version": "3"
   },
   "inputWidgetPreferences": null,
   "language": "python",
   "notebookMetadata": {
    "mostRecentlyExecutedCommandWithImplicitDF": {
     "commandId": 2769127345045892,
     "dataframes": [
      "_sqldf"
     ]
    },
    "pythonIndentUnit": 4
   },
   "notebookName": "nb_eventos_silver",
   "widgets": {}
  },
  "language_info": {
   "name": "python"
  }
 },
 "nbformat": 4,
 "nbformat_minor": 0
}
