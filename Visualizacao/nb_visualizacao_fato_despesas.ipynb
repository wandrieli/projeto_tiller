{
 "cells": [
  {
   "cell_type": "markdown",
   "metadata": {
    "application/vnd.databricks.v1+cell": {
     "cellMetadata": {
      "byteLimit": 2048000,
      "rowLimit": 10000
     },
     "inputWidgets": {},
     "nuid": "310d2b6e-da0d-44dd-ac3e-c99b23065f7c",
     "showTitle": false,
     "tableResultSettingsMap": {},
     "title": ""
    }
   },
   "source": [
    "## Cabeçalho\n",
    "### Objetivo\n",
    "Apresentar alguns insights da fato_despesas\n",
    "\n",
    "**Sobre**\n",
    "**Data de crição:** 13/10/2025\n",
    "\n",
    "**Responsável:** Wandrieli Nery Barbosa"
   ]
  },
  {
   "cell_type": "code",
   "execution_count": 0,
   "metadata": {
    "application/vnd.databricks.v1+cell": {
     "cellMetadata": {
      "byteLimit": 2048000,
      "rowLimit": 10000
     },
     "inputWidgets": {},
     "nuid": "769f07a6-506e-4bd0-9d0a-2cc3dafcb3f1",
     "showTitle": false,
     "tableResultSettingsMap": {},
     "title": ""
    }
   },
   "outputs": [],
   "source": [
    "%run /Users/wandrieli.89@gmail.com/projeto_tiller/Parametros/nb_parametros"
   ]
  },
  {
   "cell_type": "code",
   "execution_count": 0,
   "metadata": {
    "application/vnd.databricks.v1+cell": {
     "cellMetadata": {
      "byteLimit": 2048000,
      "rowLimit": 10000
     },
     "inputWidgets": {},
     "nuid": "f31fdb17-0864-49b4-bcc2-4584dac29e69",
     "showTitle": false,
     "tableResultSettingsMap": {},
     "title": ""
    }
   },
   "outputs": [],
   "source": [
    "df_despesas = spark.table(\"tiller.gold.fato_despesas\") # Carrega a tabela fato_despesas\n",
    "\n",
    "display(df_despesas.limit(5))"
   ]
  },
  {
   "cell_type": "markdown",
   "metadata": {
    "application/vnd.databricks.v1+cell": {
     "cellMetadata": {
      "byteLimit": 2048000,
      "rowLimit": 10000
     },
     "inputWidgets": {},
     "nuid": "4b38037d-263d-4699-b63f-ea4c27f4d759",
     "showTitle": false,
     "tableResultSettingsMap": {},
     "title": ""
    }
   },
   "source": [
    "Quantidade de registros e estatísticas básicas"
   ]
  },
  {
   "cell_type": "code",
   "execution_count": 0,
   "metadata": {
    "application/vnd.databricks.v1+cell": {
     "cellMetadata": {
      "byteLimit": 2048000,
      "rowLimit": 10000
     },
     "inputWidgets": {},
     "nuid": "14880794-ac57-40fb-8607-2c50e4ab21a5",
     "showTitle": false,
     "tableResultSettingsMap": {},
     "title": ""
    }
   },
   "outputs": [],
   "source": [
    "# Contagem total de registros\n",
    "total_registros = df_despesas.count()\n",
    "print(f\"Total de registros: {total_registros:,}\")\n",
    "\n",
    "# Estatísticas descritivas das colunas numéricas\n",
    "display(df_despesas.select(\"valor_documento\", \"valor_liquido\", \"valor_glosa\").describe())\n"
   ]
  },
  {
   "cell_type": "markdown",
   "metadata": {
    "application/vnd.databricks.v1+cell": {
     "cellMetadata": {
      "byteLimit": 2048000,
      "rowLimit": 10000
     },
     "inputWidgets": {},
     "nuid": "63f907fc-5f95-49da-b10a-e09ff89cfea7",
     "showTitle": false,
     "tableResultSettingsMap": {},
     "title": ""
    }
   },
   "source": [
    "Gráfico: top 10 deputados por valor total de despesas"
   ]
  },
  {
   "cell_type": "code",
   "execution_count": 0,
   "metadata": {
    "application/vnd.databricks.v1+cell": {
     "cellMetadata": {
      "byteLimit": 2048000,
      "rowLimit": 10000
     },
     "inputWidgets": {},
     "nuid": "689a825f-c5f5-45e3-84db-fd8e8cf7babe",
     "showTitle": false,
     "tableResultSettingsMap": {},
     "title": ""
    }
   },
   "outputs": [],
   "source": [
    "# Agrupar por deputado e somar as despesas\n",
    "df_top_deputados = (\n",
    "    df_despesas.groupBy(\"id_deputado\")\n",
    "    .agg(F.sum(\"valor_liquido\").alias(\"total_liquido\"))\n",
    "    .orderBy(F.desc(\"total_liquido\"))\n",
    "    .limit(10)\n",
    "    .toPandas()\n",
    ")\n",
    "\n",
    "# Plotar\n",
    "plt.figure(figsize=(10, 5))\n",
    "plt.barh(df_top_deputados[\"id_deputado\"], df_top_deputados[\"total_liquido\"], color=\"teal\")\n",
    "plt.title(\"Top 10 Deputados por Valor Total de Despesas\")\n",
    "plt.xlabel(\"Valor total líquido (R$)\")\n",
    "plt.ylabel(\"ID do Deputado\")\n",
    "plt.gca().invert_yaxis()\n",
    "plt.show()\n"
   ]
  },
  {
   "cell_type": "markdown",
   "metadata": {
    "application/vnd.databricks.v1+cell": {
     "cellMetadata": {
      "byteLimit": 2048000,
      "rowLimit": 10000
     },
     "inputWidgets": {},
     "nuid": "6a4e2f93-37cf-4b14-82ce-2ff8a8ead74e",
     "showTitle": false,
     "tableResultSettingsMap": {},
     "title": ""
    }
   },
   "source": [
    "Gráfico: total de despesas por estado (UF)"
   ]
  },
  {
   "cell_type": "code",
   "execution_count": 0,
   "metadata": {
    "application/vnd.databricks.v1+cell": {
     "cellMetadata": {
      "byteLimit": 2048000,
      "rowLimit": 10000
     },
     "inputWidgets": {},
     "nuid": "b3b2a36a-dd52-4594-9484-5129eb4a6297",
     "showTitle": false,
     "tableResultSettingsMap": {},
     "title": ""
    }
   },
   "outputs": [],
   "source": [
    "df_por_estado = (\n",
    "    df_despesas.groupBy(\"sigla_uf\")\n",
    "    .agg(F.sum(\"valor_liquido\").alias(\"total_liquido\"))\n",
    "    .orderBy(F.desc(\"total_liquido\"))\n",
    "    .toPandas()\n",
    ")\n",
    "\n",
    "plt.figure(figsize=(10, 5))\n",
    "plt.bar(df_por_estado[\"sigla_uf\"], df_por_estado[\"total_liquido\"], color=\"orange\")\n",
    "plt.title(\"Total de Despesas por Estado (UF)\")\n",
    "plt.xlabel(\"UF\")\n",
    "plt.ylabel(\"Total Líquido (R$)\")\n",
    "plt.xticks(rotation=45)\n",
    "plt.show()\n"
   ]
  },
  {
   "cell_type": "markdown",
   "metadata": {
    "application/vnd.databricks.v1+cell": {
     "cellMetadata": {
      "byteLimit": 2048000,
      "rowLimit": 10000
     },
     "inputWidgets": {},
     "nuid": "7b15ea1b-ad1d-4c78-a1c3-d9f2df71aabb",
     "showTitle": false,
     "tableResultSettingsMap": {},
     "title": ""
    }
   },
   "source": [
    "Gráfico: evolução mensal de despesas"
   ]
  },
  {
   "cell_type": "code",
   "execution_count": 0,
   "metadata": {
    "application/vnd.databricks.v1+cell": {
     "cellMetadata": {
      "byteLimit": 2048000,
      "rowLimit": 10000
     },
     "inputWidgets": {},
     "nuid": "7b8e8378-e157-4fc8-ae37-70b8d0e6e9ba",
     "showTitle": false,
     "tableResultSettingsMap": {},
     "title": ""
    }
   },
   "outputs": [],
   "source": [
    "df_mensal = (\n",
    "    df_despesas.groupBy(\"ano\", \"mes\")\n",
    "    .agg(F.sum(\"valor_liquido\").alias(\"total_liquido\"))\n",
    "    .orderBy(\"ano\", \"mes\")\n",
    "    .toPandas()\n",
    ")\n",
    "\n",
    "df_mensal[\"periodo\"] = df_mensal[\"ano\"].astype(str) + \"-\" + df_mensal[\"mes\"].astype(str).str.zfill(2)\n",
    "\n",
    "plt.figure(figsize=(10, 4))\n",
    "plt.plot(df_mensal[\"periodo\"], df_mensal[\"total_liquido\"], marker=\"o\")\n",
    "plt.title(\"Evolução Mensal das Despesas\")\n",
    "plt.xlabel(\"Período (Ano-Mês)\")\n",
    "plt.ylabel(\"Total Líquido (R$)\")\n",
    "plt.xticks(rotation=45)\n",
    "plt.tight_layout()\n",
    "plt.show()\n"
   ]
  },
  {
   "cell_type": "markdown",
   "metadata": {
    "application/vnd.databricks.v1+cell": {
     "cellMetadata": {
      "byteLimit": 2048000,
      "rowLimit": 10000
     },
     "inputWidgets": {},
     "nuid": "fc6a0d24-6c85-4c23-ada1-fb6133c1af66",
     "showTitle": false,
     "tableResultSettingsMap": {},
     "title": ""
    }
   },
   "source": [
    "Verificação de qualidade dos dados"
   ]
  },
  {
   "cell_type": "code",
   "execution_count": 0,
   "metadata": {
    "application/vnd.databricks.v1+cell": {
     "cellMetadata": {
      "byteLimit": 2048000,
      "rowLimit": 10000
     },
     "inputWidgets": {},
     "nuid": "0c68574e-6512-47f6-8cac-148a074ba1a8",
     "showTitle": false,
     "tableResultSettingsMap": {},
     "title": ""
    }
   },
   "outputs": [],
   "source": [
    "# Valores nulos por coluna\n",
    "df_nulls = df_despesas.select([F.count(F.when(F.col(c).isNull(), c)).alias(c) for c in df_despesas.columns])\n",
    "display(df_nulls)\n",
    "\n",
    "# Quantidade de CPFs/CNPJs inválidos\n",
    "df_invalid_cnpj = df_despesas.filter(F.length(\"cnpj_cpf_fornecedor\") < 11)\n",
    "print(f\"Registros com CNPJ/CPF inválido: {df_invalid_cnpj.count()}\")\n",
    "\n",
    "# Faixas de valor (para detectar outliers)\n",
    "display(df_despesas.select(\"valor_liquido\").summary())\n"
   ]
  }
 ],
 "metadata": {
  "application/vnd.databricks.v1+notebook": {
   "computePreferences": null,
   "dashboards": [],
   "environmentMetadata": {
    "base_environment": "",
    "environment_version": "4"
   },
   "inputWidgetPreferences": null,
   "language": "python",
   "notebookMetadata": {
    "pythonIndentUnit": 4
   },
   "notebookName": "nb_visualizacao_fato_despesas",
   "widgets": {}
  },
  "language_info": {
   "name": "python"
  }
 },
 "nbformat": 4,
 "nbformat_minor": 0
}
