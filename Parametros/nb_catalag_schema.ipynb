{
 "cells": [
  {
   "cell_type": "code",
   "execution_count": 0,
   "metadata": {
    "application/vnd.databricks.v1+cell": {
     "cellMetadata": {},
     "inputWidgets": {},
     "nuid": "ef7c1f15-3903-41ea-a802-17db869dc1b9",
     "showTitle": false,
     "tableResultSettingsMap": {},
     "title": ""
    }
   },
   "outputs": [],
   "source": [
    "spark.sql(\"CREATE SCHEMA IF NOT EXISTS tiller.bronze\")\n",
    "\n",
    "def set_catalog_and_schema_bronze(catalog=\"tiller\", schema=\"bronze\"):\n",
    "    try:\n",
    "        spark.sql(f\"USE CATALOG {catalog}\")\n",
    "        spark.sql(f\"USE SCHEMA {schema}\")\n",
    "        print(f\"Catálogo definido: {catalog}, Schema: {schema}\")\n",
    "    except Exception as e:\n",
    "        print(f\"Erro ao definir catálogo/schema: {e}\")\n"
   ]
  },
  {
   "cell_type": "code",
   "execution_count": 0,
   "metadata": {
    "application/vnd.databricks.v1+cell": {
     "cellMetadata": {},
     "inputWidgets": {},
     "nuid": "8d763ba3-0c51-4014-a9e5-f33c17db2c61",
     "showTitle": false,
     "tableResultSettingsMap": {},
     "title": ""
    }
   },
   "outputs": [],
   "source": [
    "spark.sql(\"CREATE SCHEMA IF NOT EXISTS tiller.silver\")\n",
    "\n",
    "def set_catalog_and_schema_silver(catalog=\"tiller\", schema=\"silver\"):\n",
    "    try:\n",
    "        spark.sql(f\"USE CATALOG {catalog}\")\n",
    "        spark.sql(f\"USE SCHEMA {schema}\")\n",
    "        print(f\"Catálogo definido: {catalog}, Schema: {schema}\")\n",
    "    except Exception as e:\n",
    "        print(f\"Erro ao definir catálogo/schema: {e}\")\n"
   ]
  },
  {
   "cell_type": "code",
   "execution_count": 0,
   "metadata": {
    "application/vnd.databricks.v1+cell": {
     "cellMetadata": {},
     "inputWidgets": {},
     "nuid": "285345a3-3dae-46d7-8423-327d47dea810",
     "showTitle": false,
     "tableResultSettingsMap": {},
     "title": ""
    }
   },
   "outputs": [],
   "source": [
    "spark.sql(\"CREATE SCHEMA IF NOT EXISTS tiller.gold\")\n",
    "\n",
    "def set_catalog_and_schema_gold(catalog=\"tiller\", schema=\"gold\"):\n",
    "    try:\n",
    "        spark.sql(f\"USE CATALOG {catalog}\")\n",
    "        spark.sql(f\"USE SCHEMA {schema}\")\n",
    "        print(f\"Catálogo definido: {catalog}, Schema: {schema}\")\n",
    "    except Exception as e:\n",
    "        print(f\"Erro ao definir catálogo/schema: {e}\")\n"
   ]
  }
 ],
 "metadata": {
  "application/vnd.databricks.v1+notebook": {
   "computePreferences": null,
   "dashboards": [],
   "environmentMetadata": {
    "base_environment": "",
    "environment_version": "3"
   },
   "inputWidgetPreferences": null,
   "language": "python",
   "notebookMetadata": {
    "pythonIndentUnit": 4
   },
   "notebookName": "nb_catalag_schema",
   "widgets": {}
  },
  "language_info": {
   "name": "python"
  }
 },
 "nbformat": 4,
 "nbformat_minor": 0
}
